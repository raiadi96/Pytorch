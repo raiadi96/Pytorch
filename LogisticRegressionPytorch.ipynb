{
  "nbformat": 4,
  "nbformat_minor": 0,
  "metadata": {
    "colab": {
      "name": "LogisticRegressionPytorch.ipynb",
      "provenance": [],
      "collapsed_sections": [],
      "authorship_tag": "ABX9TyN32gyA1n3pcomayTYmwfL+",
      "include_colab_link": true
    },
    "kernelspec": {
      "name": "python3",
      "display_name": "Python 3"
    },
    "widgets": {
      "application/vnd.jupyter.widget-state+json": {
        "40ce98621887495da953ccfdc2b02cd3": {
          "model_module": "@jupyter-widgets/controls",
          "model_name": "HBoxModel",
          "state": {
            "_view_name": "HBoxView",
            "_dom_classes": [],
            "_model_name": "HBoxModel",
            "_view_module": "@jupyter-widgets/controls",
            "_model_module_version": "1.5.0",
            "_view_count": null,
            "_view_module_version": "1.5.0",
            "box_style": "",
            "layout": "IPY_MODEL_932462038e2845abbd2a48929235a7bc",
            "_model_module": "@jupyter-widgets/controls",
            "children": [
              "IPY_MODEL_9eaa0f6207c54e049885a6b203655fd6",
              "IPY_MODEL_838b22df5a6f45f3b33808015bef763a"
            ]
          }
        },
        "932462038e2845abbd2a48929235a7bc": {
          "model_module": "@jupyter-widgets/base",
          "model_name": "LayoutModel",
          "state": {
            "_view_name": "LayoutView",
            "grid_template_rows": null,
            "right": null,
            "justify_content": null,
            "_view_module": "@jupyter-widgets/base",
            "overflow": null,
            "_model_module_version": "1.2.0",
            "_view_count": null,
            "flex_flow": null,
            "width": null,
            "min_width": null,
            "border": null,
            "align_items": null,
            "bottom": null,
            "_model_module": "@jupyter-widgets/base",
            "top": null,
            "grid_column": null,
            "overflow_y": null,
            "overflow_x": null,
            "grid_auto_flow": null,
            "grid_area": null,
            "grid_template_columns": null,
            "flex": null,
            "_model_name": "LayoutModel",
            "justify_items": null,
            "grid_row": null,
            "max_height": null,
            "align_content": null,
            "visibility": null,
            "align_self": null,
            "height": null,
            "min_height": null,
            "padding": null,
            "grid_auto_rows": null,
            "grid_gap": null,
            "max_width": null,
            "order": null,
            "_view_module_version": "1.2.0",
            "grid_template_areas": null,
            "object_position": null,
            "object_fit": null,
            "grid_auto_columns": null,
            "margin": null,
            "display": null,
            "left": null
          }
        },
        "9eaa0f6207c54e049885a6b203655fd6": {
          "model_module": "@jupyter-widgets/controls",
          "model_name": "FloatProgressModel",
          "state": {
            "_view_name": "ProgressView",
            "style": "IPY_MODEL_dcba0d404cca43e6ad0d76c0d768caf4",
            "_dom_classes": [],
            "description": "",
            "_model_name": "FloatProgressModel",
            "bar_style": "success",
            "max": 1,
            "_view_module": "@jupyter-widgets/controls",
            "_model_module_version": "1.5.0",
            "value": 1,
            "_view_count": null,
            "_view_module_version": "1.5.0",
            "orientation": "horizontal",
            "min": 0,
            "description_tooltip": null,
            "_model_module": "@jupyter-widgets/controls",
            "layout": "IPY_MODEL_7f01e8d8b9024de0910fe50be8b928ac"
          }
        },
        "838b22df5a6f45f3b33808015bef763a": {
          "model_module": "@jupyter-widgets/controls",
          "model_name": "HTMLModel",
          "state": {
            "_view_name": "HTMLView",
            "style": "IPY_MODEL_f6ac91da734f4c9fabde0dea5bf3c2c6",
            "_dom_classes": [],
            "description": "",
            "_model_name": "HTMLModel",
            "placeholder": "​",
            "_view_module": "@jupyter-widgets/controls",
            "_model_module_version": "1.5.0",
            "value": " 9920512/? [00:05&lt;00:00, 1707222.46it/s]",
            "_view_count": null,
            "_view_module_version": "1.5.0",
            "description_tooltip": null,
            "_model_module": "@jupyter-widgets/controls",
            "layout": "IPY_MODEL_8e9140d85a0a4f618d460a4129454d55"
          }
        },
        "dcba0d404cca43e6ad0d76c0d768caf4": {
          "model_module": "@jupyter-widgets/controls",
          "model_name": "ProgressStyleModel",
          "state": {
            "_view_name": "StyleView",
            "_model_name": "ProgressStyleModel",
            "description_width": "initial",
            "_view_module": "@jupyter-widgets/base",
            "_model_module_version": "1.5.0",
            "_view_count": null,
            "_view_module_version": "1.2.0",
            "bar_color": null,
            "_model_module": "@jupyter-widgets/controls"
          }
        },
        "7f01e8d8b9024de0910fe50be8b928ac": {
          "model_module": "@jupyter-widgets/base",
          "model_name": "LayoutModel",
          "state": {
            "_view_name": "LayoutView",
            "grid_template_rows": null,
            "right": null,
            "justify_content": null,
            "_view_module": "@jupyter-widgets/base",
            "overflow": null,
            "_model_module_version": "1.2.0",
            "_view_count": null,
            "flex_flow": null,
            "width": null,
            "min_width": null,
            "border": null,
            "align_items": null,
            "bottom": null,
            "_model_module": "@jupyter-widgets/base",
            "top": null,
            "grid_column": null,
            "overflow_y": null,
            "overflow_x": null,
            "grid_auto_flow": null,
            "grid_area": null,
            "grid_template_columns": null,
            "flex": null,
            "_model_name": "LayoutModel",
            "justify_items": null,
            "grid_row": null,
            "max_height": null,
            "align_content": null,
            "visibility": null,
            "align_self": null,
            "height": null,
            "min_height": null,
            "padding": null,
            "grid_auto_rows": null,
            "grid_gap": null,
            "max_width": null,
            "order": null,
            "_view_module_version": "1.2.0",
            "grid_template_areas": null,
            "object_position": null,
            "object_fit": null,
            "grid_auto_columns": null,
            "margin": null,
            "display": null,
            "left": null
          }
        },
        "f6ac91da734f4c9fabde0dea5bf3c2c6": {
          "model_module": "@jupyter-widgets/controls",
          "model_name": "DescriptionStyleModel",
          "state": {
            "_view_name": "StyleView",
            "_model_name": "DescriptionStyleModel",
            "description_width": "",
            "_view_module": "@jupyter-widgets/base",
            "_model_module_version": "1.5.0",
            "_view_count": null,
            "_view_module_version": "1.2.0",
            "_model_module": "@jupyter-widgets/controls"
          }
        },
        "8e9140d85a0a4f618d460a4129454d55": {
          "model_module": "@jupyter-widgets/base",
          "model_name": "LayoutModel",
          "state": {
            "_view_name": "LayoutView",
            "grid_template_rows": null,
            "right": null,
            "justify_content": null,
            "_view_module": "@jupyter-widgets/base",
            "overflow": null,
            "_model_module_version": "1.2.0",
            "_view_count": null,
            "flex_flow": null,
            "width": null,
            "min_width": null,
            "border": null,
            "align_items": null,
            "bottom": null,
            "_model_module": "@jupyter-widgets/base",
            "top": null,
            "grid_column": null,
            "overflow_y": null,
            "overflow_x": null,
            "grid_auto_flow": null,
            "grid_area": null,
            "grid_template_columns": null,
            "flex": null,
            "_model_name": "LayoutModel",
            "justify_items": null,
            "grid_row": null,
            "max_height": null,
            "align_content": null,
            "visibility": null,
            "align_self": null,
            "height": null,
            "min_height": null,
            "padding": null,
            "grid_auto_rows": null,
            "grid_gap": null,
            "max_width": null,
            "order": null,
            "_view_module_version": "1.2.0",
            "grid_template_areas": null,
            "object_position": null,
            "object_fit": null,
            "grid_auto_columns": null,
            "margin": null,
            "display": null,
            "left": null
          }
        },
        "5a0a4778c1834bd1826c7bdeee7c139b": {
          "model_module": "@jupyter-widgets/controls",
          "model_name": "HBoxModel",
          "state": {
            "_view_name": "HBoxView",
            "_dom_classes": [],
            "_model_name": "HBoxModel",
            "_view_module": "@jupyter-widgets/controls",
            "_model_module_version": "1.5.0",
            "_view_count": null,
            "_view_module_version": "1.5.0",
            "box_style": "",
            "layout": "IPY_MODEL_ccdd85d6809940fa87bf9002cf01eea9",
            "_model_module": "@jupyter-widgets/controls",
            "children": [
              "IPY_MODEL_60e1e435791f4a43918b2eed978aee05",
              "IPY_MODEL_51ba371023b14e328b81984a27812d93"
            ]
          }
        },
        "ccdd85d6809940fa87bf9002cf01eea9": {
          "model_module": "@jupyter-widgets/base",
          "model_name": "LayoutModel",
          "state": {
            "_view_name": "LayoutView",
            "grid_template_rows": null,
            "right": null,
            "justify_content": null,
            "_view_module": "@jupyter-widgets/base",
            "overflow": null,
            "_model_module_version": "1.2.0",
            "_view_count": null,
            "flex_flow": null,
            "width": null,
            "min_width": null,
            "border": null,
            "align_items": null,
            "bottom": null,
            "_model_module": "@jupyter-widgets/base",
            "top": null,
            "grid_column": null,
            "overflow_y": null,
            "overflow_x": null,
            "grid_auto_flow": null,
            "grid_area": null,
            "grid_template_columns": null,
            "flex": null,
            "_model_name": "LayoutModel",
            "justify_items": null,
            "grid_row": null,
            "max_height": null,
            "align_content": null,
            "visibility": null,
            "align_self": null,
            "height": null,
            "min_height": null,
            "padding": null,
            "grid_auto_rows": null,
            "grid_gap": null,
            "max_width": null,
            "order": null,
            "_view_module_version": "1.2.0",
            "grid_template_areas": null,
            "object_position": null,
            "object_fit": null,
            "grid_auto_columns": null,
            "margin": null,
            "display": null,
            "left": null
          }
        },
        "60e1e435791f4a43918b2eed978aee05": {
          "model_module": "@jupyter-widgets/controls",
          "model_name": "FloatProgressModel",
          "state": {
            "_view_name": "ProgressView",
            "style": "IPY_MODEL_d6817819499c4b179435ba2aca737afd",
            "_dom_classes": [],
            "description": "",
            "_model_name": "FloatProgressModel",
            "bar_style": "success",
            "max": 1,
            "_view_module": "@jupyter-widgets/controls",
            "_model_module_version": "1.5.0",
            "value": 1,
            "_view_count": null,
            "_view_module_version": "1.5.0",
            "orientation": "horizontal",
            "min": 0,
            "description_tooltip": null,
            "_model_module": "@jupyter-widgets/controls",
            "layout": "IPY_MODEL_d39461f94cef48a99afa3c6244d69513"
          }
        },
        "51ba371023b14e328b81984a27812d93": {
          "model_module": "@jupyter-widgets/controls",
          "model_name": "HTMLModel",
          "state": {
            "_view_name": "HTMLView",
            "style": "IPY_MODEL_81eb7e79abbe410f9346db6dc3d15ff2",
            "_dom_classes": [],
            "description": "",
            "_model_name": "HTMLModel",
            "placeholder": "​",
            "_view_module": "@jupyter-widgets/controls",
            "_model_module_version": "1.5.0",
            "value": " 32768/? [00:01&lt;00:00, 28765.70it/s]",
            "_view_count": null,
            "_view_module_version": "1.5.0",
            "description_tooltip": null,
            "_model_module": "@jupyter-widgets/controls",
            "layout": "IPY_MODEL_9170400f4b4a4fc2926b6103a2ad9de7"
          }
        },
        "d6817819499c4b179435ba2aca737afd": {
          "model_module": "@jupyter-widgets/controls",
          "model_name": "ProgressStyleModel",
          "state": {
            "_view_name": "StyleView",
            "_model_name": "ProgressStyleModel",
            "description_width": "initial",
            "_view_module": "@jupyter-widgets/base",
            "_model_module_version": "1.5.0",
            "_view_count": null,
            "_view_module_version": "1.2.0",
            "bar_color": null,
            "_model_module": "@jupyter-widgets/controls"
          }
        },
        "d39461f94cef48a99afa3c6244d69513": {
          "model_module": "@jupyter-widgets/base",
          "model_name": "LayoutModel",
          "state": {
            "_view_name": "LayoutView",
            "grid_template_rows": null,
            "right": null,
            "justify_content": null,
            "_view_module": "@jupyter-widgets/base",
            "overflow": null,
            "_model_module_version": "1.2.0",
            "_view_count": null,
            "flex_flow": null,
            "width": null,
            "min_width": null,
            "border": null,
            "align_items": null,
            "bottom": null,
            "_model_module": "@jupyter-widgets/base",
            "top": null,
            "grid_column": null,
            "overflow_y": null,
            "overflow_x": null,
            "grid_auto_flow": null,
            "grid_area": null,
            "grid_template_columns": null,
            "flex": null,
            "_model_name": "LayoutModel",
            "justify_items": null,
            "grid_row": null,
            "max_height": null,
            "align_content": null,
            "visibility": null,
            "align_self": null,
            "height": null,
            "min_height": null,
            "padding": null,
            "grid_auto_rows": null,
            "grid_gap": null,
            "max_width": null,
            "order": null,
            "_view_module_version": "1.2.0",
            "grid_template_areas": null,
            "object_position": null,
            "object_fit": null,
            "grid_auto_columns": null,
            "margin": null,
            "display": null,
            "left": null
          }
        },
        "81eb7e79abbe410f9346db6dc3d15ff2": {
          "model_module": "@jupyter-widgets/controls",
          "model_name": "DescriptionStyleModel",
          "state": {
            "_view_name": "StyleView",
            "_model_name": "DescriptionStyleModel",
            "description_width": "",
            "_view_module": "@jupyter-widgets/base",
            "_model_module_version": "1.5.0",
            "_view_count": null,
            "_view_module_version": "1.2.0",
            "_model_module": "@jupyter-widgets/controls"
          }
        },
        "9170400f4b4a4fc2926b6103a2ad9de7": {
          "model_module": "@jupyter-widgets/base",
          "model_name": "LayoutModel",
          "state": {
            "_view_name": "LayoutView",
            "grid_template_rows": null,
            "right": null,
            "justify_content": null,
            "_view_module": "@jupyter-widgets/base",
            "overflow": null,
            "_model_module_version": "1.2.0",
            "_view_count": null,
            "flex_flow": null,
            "width": null,
            "min_width": null,
            "border": null,
            "align_items": null,
            "bottom": null,
            "_model_module": "@jupyter-widgets/base",
            "top": null,
            "grid_column": null,
            "overflow_y": null,
            "overflow_x": null,
            "grid_auto_flow": null,
            "grid_area": null,
            "grid_template_columns": null,
            "flex": null,
            "_model_name": "LayoutModel",
            "justify_items": null,
            "grid_row": null,
            "max_height": null,
            "align_content": null,
            "visibility": null,
            "align_self": null,
            "height": null,
            "min_height": null,
            "padding": null,
            "grid_auto_rows": null,
            "grid_gap": null,
            "max_width": null,
            "order": null,
            "_view_module_version": "1.2.0",
            "grid_template_areas": null,
            "object_position": null,
            "object_fit": null,
            "grid_auto_columns": null,
            "margin": null,
            "display": null,
            "left": null
          }
        },
        "a7bf57e22d7f46c8bb2cd2f916e3d819": {
          "model_module": "@jupyter-widgets/controls",
          "model_name": "HBoxModel",
          "state": {
            "_view_name": "HBoxView",
            "_dom_classes": [],
            "_model_name": "HBoxModel",
            "_view_module": "@jupyter-widgets/controls",
            "_model_module_version": "1.5.0",
            "_view_count": null,
            "_view_module_version": "1.5.0",
            "box_style": "",
            "layout": "IPY_MODEL_7be9c4fdc36d42b3845bc491d32b67b8",
            "_model_module": "@jupyter-widgets/controls",
            "children": [
              "IPY_MODEL_852f60d9c29347138cf5cca305672f57",
              "IPY_MODEL_03d2f939222e4a03beab76c2c14e3722"
            ]
          }
        },
        "7be9c4fdc36d42b3845bc491d32b67b8": {
          "model_module": "@jupyter-widgets/base",
          "model_name": "LayoutModel",
          "state": {
            "_view_name": "LayoutView",
            "grid_template_rows": null,
            "right": null,
            "justify_content": null,
            "_view_module": "@jupyter-widgets/base",
            "overflow": null,
            "_model_module_version": "1.2.0",
            "_view_count": null,
            "flex_flow": null,
            "width": null,
            "min_width": null,
            "border": null,
            "align_items": null,
            "bottom": null,
            "_model_module": "@jupyter-widgets/base",
            "top": null,
            "grid_column": null,
            "overflow_y": null,
            "overflow_x": null,
            "grid_auto_flow": null,
            "grid_area": null,
            "grid_template_columns": null,
            "flex": null,
            "_model_name": "LayoutModel",
            "justify_items": null,
            "grid_row": null,
            "max_height": null,
            "align_content": null,
            "visibility": null,
            "align_self": null,
            "height": null,
            "min_height": null,
            "padding": null,
            "grid_auto_rows": null,
            "grid_gap": null,
            "max_width": null,
            "order": null,
            "_view_module_version": "1.2.0",
            "grid_template_areas": null,
            "object_position": null,
            "object_fit": null,
            "grid_auto_columns": null,
            "margin": null,
            "display": null,
            "left": null
          }
        },
        "852f60d9c29347138cf5cca305672f57": {
          "model_module": "@jupyter-widgets/controls",
          "model_name": "FloatProgressModel",
          "state": {
            "_view_name": "ProgressView",
            "style": "IPY_MODEL_5dcd782569b84a8f94781f7ce9245764",
            "_dom_classes": [],
            "description": "",
            "_model_name": "FloatProgressModel",
            "bar_style": "success",
            "max": 1,
            "_view_module": "@jupyter-widgets/controls",
            "_model_module_version": "1.5.0",
            "value": 1,
            "_view_count": null,
            "_view_module_version": "1.5.0",
            "orientation": "horizontal",
            "min": 0,
            "description_tooltip": null,
            "_model_module": "@jupyter-widgets/controls",
            "layout": "IPY_MODEL_c98f4d23ce5441248386c7608e989893"
          }
        },
        "03d2f939222e4a03beab76c2c14e3722": {
          "model_module": "@jupyter-widgets/controls",
          "model_name": "HTMLModel",
          "state": {
            "_view_name": "HTMLView",
            "style": "IPY_MODEL_1bf53a16a85a4ed78eb21ba08986d7cb",
            "_dom_classes": [],
            "description": "",
            "_model_name": "HTMLModel",
            "placeholder": "​",
            "_view_module": "@jupyter-widgets/controls",
            "_model_module_version": "1.5.0",
            "value": " 1654784/? [00:00&lt;00:00, 2020325.06it/s]",
            "_view_count": null,
            "_view_module_version": "1.5.0",
            "description_tooltip": null,
            "_model_module": "@jupyter-widgets/controls",
            "layout": "IPY_MODEL_273e4223138e4bb48a67593d1a1d6226"
          }
        },
        "5dcd782569b84a8f94781f7ce9245764": {
          "model_module": "@jupyter-widgets/controls",
          "model_name": "ProgressStyleModel",
          "state": {
            "_view_name": "StyleView",
            "_model_name": "ProgressStyleModel",
            "description_width": "initial",
            "_view_module": "@jupyter-widgets/base",
            "_model_module_version": "1.5.0",
            "_view_count": null,
            "_view_module_version": "1.2.0",
            "bar_color": null,
            "_model_module": "@jupyter-widgets/controls"
          }
        },
        "c98f4d23ce5441248386c7608e989893": {
          "model_module": "@jupyter-widgets/base",
          "model_name": "LayoutModel",
          "state": {
            "_view_name": "LayoutView",
            "grid_template_rows": null,
            "right": null,
            "justify_content": null,
            "_view_module": "@jupyter-widgets/base",
            "overflow": null,
            "_model_module_version": "1.2.0",
            "_view_count": null,
            "flex_flow": null,
            "width": null,
            "min_width": null,
            "border": null,
            "align_items": null,
            "bottom": null,
            "_model_module": "@jupyter-widgets/base",
            "top": null,
            "grid_column": null,
            "overflow_y": null,
            "overflow_x": null,
            "grid_auto_flow": null,
            "grid_area": null,
            "grid_template_columns": null,
            "flex": null,
            "_model_name": "LayoutModel",
            "justify_items": null,
            "grid_row": null,
            "max_height": null,
            "align_content": null,
            "visibility": null,
            "align_self": null,
            "height": null,
            "min_height": null,
            "padding": null,
            "grid_auto_rows": null,
            "grid_gap": null,
            "max_width": null,
            "order": null,
            "_view_module_version": "1.2.0",
            "grid_template_areas": null,
            "object_position": null,
            "object_fit": null,
            "grid_auto_columns": null,
            "margin": null,
            "display": null,
            "left": null
          }
        },
        "1bf53a16a85a4ed78eb21ba08986d7cb": {
          "model_module": "@jupyter-widgets/controls",
          "model_name": "DescriptionStyleModel",
          "state": {
            "_view_name": "StyleView",
            "_model_name": "DescriptionStyleModel",
            "description_width": "",
            "_view_module": "@jupyter-widgets/base",
            "_model_module_version": "1.5.0",
            "_view_count": null,
            "_view_module_version": "1.2.0",
            "_model_module": "@jupyter-widgets/controls"
          }
        },
        "273e4223138e4bb48a67593d1a1d6226": {
          "model_module": "@jupyter-widgets/base",
          "model_name": "LayoutModel",
          "state": {
            "_view_name": "LayoutView",
            "grid_template_rows": null,
            "right": null,
            "justify_content": null,
            "_view_module": "@jupyter-widgets/base",
            "overflow": null,
            "_model_module_version": "1.2.0",
            "_view_count": null,
            "flex_flow": null,
            "width": null,
            "min_width": null,
            "border": null,
            "align_items": null,
            "bottom": null,
            "_model_module": "@jupyter-widgets/base",
            "top": null,
            "grid_column": null,
            "overflow_y": null,
            "overflow_x": null,
            "grid_auto_flow": null,
            "grid_area": null,
            "grid_template_columns": null,
            "flex": null,
            "_model_name": "LayoutModel",
            "justify_items": null,
            "grid_row": null,
            "max_height": null,
            "align_content": null,
            "visibility": null,
            "align_self": null,
            "height": null,
            "min_height": null,
            "padding": null,
            "grid_auto_rows": null,
            "grid_gap": null,
            "max_width": null,
            "order": null,
            "_view_module_version": "1.2.0",
            "grid_template_areas": null,
            "object_position": null,
            "object_fit": null,
            "grid_auto_columns": null,
            "margin": null,
            "display": null,
            "left": null
          }
        },
        "faa9ceb5484447be972030a5cb6dcbe0": {
          "model_module": "@jupyter-widgets/controls",
          "model_name": "HBoxModel",
          "state": {
            "_view_name": "HBoxView",
            "_dom_classes": [],
            "_model_name": "HBoxModel",
            "_view_module": "@jupyter-widgets/controls",
            "_model_module_version": "1.5.0",
            "_view_count": null,
            "_view_module_version": "1.5.0",
            "box_style": "",
            "layout": "IPY_MODEL_16f96b4ce4204d02bc5aa5ba830707e8",
            "_model_module": "@jupyter-widgets/controls",
            "children": [
              "IPY_MODEL_dc48a22658b44f51973762ec5193b3e3",
              "IPY_MODEL_044253673ab54a42841cc7fc2a099a76"
            ]
          }
        },
        "16f96b4ce4204d02bc5aa5ba830707e8": {
          "model_module": "@jupyter-widgets/base",
          "model_name": "LayoutModel",
          "state": {
            "_view_name": "LayoutView",
            "grid_template_rows": null,
            "right": null,
            "justify_content": null,
            "_view_module": "@jupyter-widgets/base",
            "overflow": null,
            "_model_module_version": "1.2.0",
            "_view_count": null,
            "flex_flow": null,
            "width": null,
            "min_width": null,
            "border": null,
            "align_items": null,
            "bottom": null,
            "_model_module": "@jupyter-widgets/base",
            "top": null,
            "grid_column": null,
            "overflow_y": null,
            "overflow_x": null,
            "grid_auto_flow": null,
            "grid_area": null,
            "grid_template_columns": null,
            "flex": null,
            "_model_name": "LayoutModel",
            "justify_items": null,
            "grid_row": null,
            "max_height": null,
            "align_content": null,
            "visibility": null,
            "align_self": null,
            "height": null,
            "min_height": null,
            "padding": null,
            "grid_auto_rows": null,
            "grid_gap": null,
            "max_width": null,
            "order": null,
            "_view_module_version": "1.2.0",
            "grid_template_areas": null,
            "object_position": null,
            "object_fit": null,
            "grid_auto_columns": null,
            "margin": null,
            "display": null,
            "left": null
          }
        },
        "dc48a22658b44f51973762ec5193b3e3": {
          "model_module": "@jupyter-widgets/controls",
          "model_name": "FloatProgressModel",
          "state": {
            "_view_name": "ProgressView",
            "style": "IPY_MODEL_f8d0cc4ebfd547fc832e0637730fca29",
            "_dom_classes": [],
            "description": "",
            "_model_name": "FloatProgressModel",
            "bar_style": "success",
            "max": 1,
            "_view_module": "@jupyter-widgets/controls",
            "_model_module_version": "1.5.0",
            "value": 1,
            "_view_count": null,
            "_view_module_version": "1.5.0",
            "orientation": "horizontal",
            "min": 0,
            "description_tooltip": null,
            "_model_module": "@jupyter-widgets/controls",
            "layout": "IPY_MODEL_f3135aa39a3d4ba5b6cef08e8da7b85f"
          }
        },
        "044253673ab54a42841cc7fc2a099a76": {
          "model_module": "@jupyter-widgets/controls",
          "model_name": "HTMLModel",
          "state": {
            "_view_name": "HTMLView",
            "style": "IPY_MODEL_3880e2a124be4537bb136ae9dfe58183",
            "_dom_classes": [],
            "description": "",
            "_model_name": "HTMLModel",
            "placeholder": "​",
            "_view_module": "@jupyter-widgets/controls",
            "_model_module_version": "1.5.0",
            "value": " 8192/? [00:03&lt;00:00, 2634.29it/s]",
            "_view_count": null,
            "_view_module_version": "1.5.0",
            "description_tooltip": null,
            "_model_module": "@jupyter-widgets/controls",
            "layout": "IPY_MODEL_afe8502564e946a7956fbfd7cf1472c3"
          }
        },
        "f8d0cc4ebfd547fc832e0637730fca29": {
          "model_module": "@jupyter-widgets/controls",
          "model_name": "ProgressStyleModel",
          "state": {
            "_view_name": "StyleView",
            "_model_name": "ProgressStyleModel",
            "description_width": "initial",
            "_view_module": "@jupyter-widgets/base",
            "_model_module_version": "1.5.0",
            "_view_count": null,
            "_view_module_version": "1.2.0",
            "bar_color": null,
            "_model_module": "@jupyter-widgets/controls"
          }
        },
        "f3135aa39a3d4ba5b6cef08e8da7b85f": {
          "model_module": "@jupyter-widgets/base",
          "model_name": "LayoutModel",
          "state": {
            "_view_name": "LayoutView",
            "grid_template_rows": null,
            "right": null,
            "justify_content": null,
            "_view_module": "@jupyter-widgets/base",
            "overflow": null,
            "_model_module_version": "1.2.0",
            "_view_count": null,
            "flex_flow": null,
            "width": null,
            "min_width": null,
            "border": null,
            "align_items": null,
            "bottom": null,
            "_model_module": "@jupyter-widgets/base",
            "top": null,
            "grid_column": null,
            "overflow_y": null,
            "overflow_x": null,
            "grid_auto_flow": null,
            "grid_area": null,
            "grid_template_columns": null,
            "flex": null,
            "_model_name": "LayoutModel",
            "justify_items": null,
            "grid_row": null,
            "max_height": null,
            "align_content": null,
            "visibility": null,
            "align_self": null,
            "height": null,
            "min_height": null,
            "padding": null,
            "grid_auto_rows": null,
            "grid_gap": null,
            "max_width": null,
            "order": null,
            "_view_module_version": "1.2.0",
            "grid_template_areas": null,
            "object_position": null,
            "object_fit": null,
            "grid_auto_columns": null,
            "margin": null,
            "display": null,
            "left": null
          }
        },
        "3880e2a124be4537bb136ae9dfe58183": {
          "model_module": "@jupyter-widgets/controls",
          "model_name": "DescriptionStyleModel",
          "state": {
            "_view_name": "StyleView",
            "_model_name": "DescriptionStyleModel",
            "description_width": "",
            "_view_module": "@jupyter-widgets/base",
            "_model_module_version": "1.5.0",
            "_view_count": null,
            "_view_module_version": "1.2.0",
            "_model_module": "@jupyter-widgets/controls"
          }
        },
        "afe8502564e946a7956fbfd7cf1472c3": {
          "model_module": "@jupyter-widgets/base",
          "model_name": "LayoutModel",
          "state": {
            "_view_name": "LayoutView",
            "grid_template_rows": null,
            "right": null,
            "justify_content": null,
            "_view_module": "@jupyter-widgets/base",
            "overflow": null,
            "_model_module_version": "1.2.0",
            "_view_count": null,
            "flex_flow": null,
            "width": null,
            "min_width": null,
            "border": null,
            "align_items": null,
            "bottom": null,
            "_model_module": "@jupyter-widgets/base",
            "top": null,
            "grid_column": null,
            "overflow_y": null,
            "overflow_x": null,
            "grid_auto_flow": null,
            "grid_area": null,
            "grid_template_columns": null,
            "flex": null,
            "_model_name": "LayoutModel",
            "justify_items": null,
            "grid_row": null,
            "max_height": null,
            "align_content": null,
            "visibility": null,
            "align_self": null,
            "height": null,
            "min_height": null,
            "padding": null,
            "grid_auto_rows": null,
            "grid_gap": null,
            "max_width": null,
            "order": null,
            "_view_module_version": "1.2.0",
            "grid_template_areas": null,
            "object_position": null,
            "object_fit": null,
            "grid_auto_columns": null,
            "margin": null,
            "display": null,
            "left": null
          }
        }
      }
    }
  },
  "cells": [
    {
      "cell_type": "markdown",
      "metadata": {
        "id": "view-in-github",
        "colab_type": "text"
      },
      "source": [
        "<a href=\"https://colab.research.google.com/github/raiadi96/Pytorch/blob/master/LogisticRegressionPytorch.ipynb\" target=\"_parent\"><img src=\"https://colab.research.google.com/assets/colab-badge.svg\" alt=\"Open In Colab\"/></a>"
      ]
    },
    {
      "cell_type": "code",
      "metadata": {
        "id": "ueOkPapIqAbZ",
        "colab_type": "code",
        "colab": {}
      },
      "source": [
        "from torchvision.datasets import MNIST\n",
        "import torchvision.transforms as transforms\n",
        "import torch"
      ],
      "execution_count": 0,
      "outputs": []
    },
    {
      "cell_type": "code",
      "metadata": {
        "id": "hHew099Tm2RH",
        "colab_type": "code",
        "outputId": "e66785c5-4b2d-4b75-c266-2c90d8ba02a3",
        "colab": {
          "base_uri": "https://localhost:8080/",
          "height": 383,
          "referenced_widgets": [
            "40ce98621887495da953ccfdc2b02cd3",
            "932462038e2845abbd2a48929235a7bc",
            "9eaa0f6207c54e049885a6b203655fd6",
            "838b22df5a6f45f3b33808015bef763a",
            "dcba0d404cca43e6ad0d76c0d768caf4",
            "7f01e8d8b9024de0910fe50be8b928ac",
            "f6ac91da734f4c9fabde0dea5bf3c2c6",
            "8e9140d85a0a4f618d460a4129454d55",
            "5a0a4778c1834bd1826c7bdeee7c139b",
            "ccdd85d6809940fa87bf9002cf01eea9",
            "60e1e435791f4a43918b2eed978aee05",
            "51ba371023b14e328b81984a27812d93",
            "d6817819499c4b179435ba2aca737afd",
            "d39461f94cef48a99afa3c6244d69513",
            "81eb7e79abbe410f9346db6dc3d15ff2",
            "9170400f4b4a4fc2926b6103a2ad9de7",
            "a7bf57e22d7f46c8bb2cd2f916e3d819",
            "7be9c4fdc36d42b3845bc491d32b67b8",
            "852f60d9c29347138cf5cca305672f57",
            "03d2f939222e4a03beab76c2c14e3722",
            "5dcd782569b84a8f94781f7ce9245764",
            "c98f4d23ce5441248386c7608e989893",
            "1bf53a16a85a4ed78eb21ba08986d7cb",
            "273e4223138e4bb48a67593d1a1d6226",
            "faa9ceb5484447be972030a5cb6dcbe0",
            "16f96b4ce4204d02bc5aa5ba830707e8",
            "dc48a22658b44f51973762ec5193b3e3",
            "044253673ab54a42841cc7fc2a099a76",
            "f8d0cc4ebfd547fc832e0637730fca29",
            "f3135aa39a3d4ba5b6cef08e8da7b85f",
            "3880e2a124be4537bb136ae9dfe58183",
            "afe8502564e946a7956fbfd7cf1472c3"
          ]
        }
      },
      "source": [
        "# MNIST dataset (images and labels)\n",
        "dataset = MNIST(root='data/', \n",
        "                train=True,\n",
        "                transform=transforms.ToTensor(),\n",
        "                download = True)"
      ],
      "execution_count": 2,
      "outputs": [
        {
          "output_type": "stream",
          "text": [
            "Downloading http://yann.lecun.com/exdb/mnist/train-images-idx3-ubyte.gz to data/MNIST/raw/train-images-idx3-ubyte.gz\n"
          ],
          "name": "stdout"
        },
        {
          "output_type": "display_data",
          "data": {
            "application/vnd.jupyter.widget-view+json": {
              "model_id": "40ce98621887495da953ccfdc2b02cd3",
              "version_minor": 0,
              "version_major": 2
            },
            "text/plain": [
              "HBox(children=(FloatProgress(value=1.0, bar_style='info', max=1.0), HTML(value='')))"
            ]
          },
          "metadata": {
            "tags": []
          }
        },
        {
          "output_type": "stream",
          "text": [
            "Extracting data/MNIST/raw/train-images-idx3-ubyte.gz to data/MNIST/raw\n",
            "Downloading http://yann.lecun.com/exdb/mnist/train-labels-idx1-ubyte.gz to data/MNIST/raw/train-labels-idx1-ubyte.gz\n"
          ],
          "name": "stdout"
        },
        {
          "output_type": "display_data",
          "data": {
            "application/vnd.jupyter.widget-view+json": {
              "model_id": "5a0a4778c1834bd1826c7bdeee7c139b",
              "version_minor": 0,
              "version_major": 2
            },
            "text/plain": [
              "HBox(children=(FloatProgress(value=1.0, bar_style='info', max=1.0), HTML(value='')))"
            ]
          },
          "metadata": {
            "tags": []
          }
        },
        {
          "output_type": "stream",
          "text": [
            "Extracting data/MNIST/raw/train-labels-idx1-ubyte.gz to data/MNIST/raw\n",
            "Downloading http://yann.lecun.com/exdb/mnist/t10k-images-idx3-ubyte.gz to data/MNIST/raw/t10k-images-idx3-ubyte.gz\n"
          ],
          "name": "stdout"
        },
        {
          "output_type": "display_data",
          "data": {
            "application/vnd.jupyter.widget-view+json": {
              "model_id": "a7bf57e22d7f46c8bb2cd2f916e3d819",
              "version_minor": 0,
              "version_major": 2
            },
            "text/plain": [
              "HBox(children=(FloatProgress(value=1.0, bar_style='info', max=1.0), HTML(value='')))"
            ]
          },
          "metadata": {
            "tags": []
          }
        },
        {
          "output_type": "stream",
          "text": [
            "Extracting data/MNIST/raw/t10k-images-idx3-ubyte.gz to data/MNIST/raw\n",
            "Downloading http://yann.lecun.com/exdb/mnist/t10k-labels-idx1-ubyte.gz to data/MNIST/raw/t10k-labels-idx1-ubyte.gz\n",
            "\n",
            "\n"
          ],
          "name": "stdout"
        },
        {
          "output_type": "display_data",
          "data": {
            "application/vnd.jupyter.widget-view+json": {
              "model_id": "faa9ceb5484447be972030a5cb6dcbe0",
              "version_minor": 0,
              "version_major": 2
            },
            "text/plain": [
              "HBox(children=(FloatProgress(value=1.0, bar_style='info', max=1.0), HTML(value='')))"
            ]
          },
          "metadata": {
            "tags": []
          }
        },
        {
          "output_type": "stream",
          "text": [
            "Extracting data/MNIST/raw/t10k-labels-idx1-ubyte.gz to data/MNIST/raw\n",
            "Processing...\n",
            "Done!\n"
          ],
          "name": "stdout"
        },
        {
          "output_type": "stream",
          "text": [
            "/pytorch/torch/csrc/utils/tensor_numpy.cpp:141: UserWarning: The given NumPy array is not writeable, and PyTorch does not support non-writeable tensors. This means you can write to the underlying (supposedly non-writeable) NumPy array using the tensor. You may want to copy the array to protect its data or make it writeable before converting it to a tensor. This type of warning will be suppressed for the rest of this program.\n"
          ],
          "name": "stderr"
        }
      ]
    },
    {
      "cell_type": "code",
      "metadata": {
        "id": "FywenXFfEfpZ",
        "colab_type": "code",
        "outputId": "cd9e9531-3c5c-46c0-e677-9d656afc9d16",
        "colab": {
          "base_uri": "https://localhost:8080/",
          "height": 348
        }
      },
      "source": [
        "img_tensor,label = dataset[0]\n",
        "import matplotlib.pyplot as plt\n",
        "!matplotlib inline\n",
        "plt.title(label)\n",
        "plt.imshow(img_tensor[0,:,:],cmap = 'gray')"
      ],
      "execution_count": 3,
      "outputs": [
        {
          "output_type": "stream",
          "text": [
            "/bin/bash: matplotlib: command not found\n"
          ],
          "name": "stdout"
        },
        {
          "output_type": "execute_result",
          "data": {
            "text/plain": [
              "<matplotlib.image.AxesImage at 0x7fa4a610e080>"
            ]
          },
          "metadata": {
            "tags": []
          },
          "execution_count": 3
        },
        {
          "output_type": "display_data",
          "data": {
            "image/png": "[encoded data removed]",
            "text/plain": [
              "<Figure size 432x288 with 1 Axes>"
            ]
          },
          "metadata": {
            "tags": [],
            "needs_background": "light"
          }
        },
        {
          "output_type": "stream",
          "text": [
            "\n",
            "\n"
          ],
          "name": "stdout"
        }
      ]
    },
    {
      "cell_type": "code",
      "metadata": {
        "id": "rtKtxj6zT31j",
        "colab_type": "code",
        "colab": {}
      },
      "source": [
        "#creating train set, validation set, test set\n",
        "\n",
        "import numpy as np\n",
        "\n",
        "def split_indices(n, val_pct):\n",
        "  n_val = int(val_pct* n)\n",
        "  idxs = np.random.permutation(n)\n",
        "  #return validaition set, train set\n",
        "  return idxs[:n_val], idxs[n_val:]"
      ],
      "execution_count": 0,
      "outputs": []
    },
    {
      "cell_type": "code",
      "metadata": {
        "id": "xaXI5mkaVS6X",
        "colab_type": "code",
        "colab": {}
      },
      "source": [
        "val_indices, train_indices = split_indices(len(dataset), val_pct=0.2)\n",
        "#20 percent of the data will be in validation set, the rest will be in training set"
      ],
      "execution_count": 0,
      "outputs": []
    },
    {
      "cell_type": "code",
      "metadata": {
        "id": "BETOOBWWVWGr",
        "colab_type": "code",
        "colab": {}
      },
      "source": [
        "#creating subset sampler and dataLoader instance\n",
        "\n",
        "from torch.utils.data.sampler import SubsetRandomSampler\n",
        "from torch.utils.data.dataloader import DataLoader\n",
        "\n",
        "#set size of each batch\n",
        "batch_size = 100\n",
        "\n",
        "train_sampler = SubsetRandomSampler(train_indices)\n",
        "train_dl = DataLoader(dataset,\n",
        "                      batch_size,\n",
        "                      sampler = train_sampler)\n",
        "\n",
        "val_sampler = SubsetRandomSampler(val_indices)\n",
        "val_dl = DataLoader(dataset,\n",
        "                    batch_size,\n",
        "                    sampler = val_sampler)\n",
        "\n",
        "\n"
      ],
      "execution_count": 0,
      "outputs": []
    },
    {
      "cell_type": "code",
      "metadata": {
        "id": "rVfmHzE2WVvF",
        "colab_type": "code",
        "colab": {}
      },
      "source": [
        "#creating our machine learning model\n",
        "\n",
        "import torch.nn as nn\n",
        "class MnistModel(nn.Module):\n",
        "  def __init__(self):\n",
        "    super().__init__()\n",
        "    self.linear = nn.Linear(input_size, num_classes)\n",
        "\n",
        "  def forward(self, xb):\n",
        "        xb = xb.reshape(-1, 784)\n",
        "        out = self.linear(xb)\n",
        "        return out\n",
        "input_size, num_classes = 28*28,10\n",
        "model = MnistModel()"
      ],
      "execution_count": 0,
      "outputs": []
    },
    {
      "cell_type": "code",
      "metadata": {
        "id": "RKaAttA2XBpf",
        "colab_type": "code",
        "colab": {}
      },
      "source": [
        "#adding a loss function\n",
        "\n",
        "import torch.nn.functional as F\n",
        "\n",
        "loss_fn = F.cross_entropy\n",
        "\n",
        "#add optimizer function\n",
        "\n",
        "learning_rate = 0.000001\n",
        "optimizer = torch.optim.SGD(model.parameters(), lr = learning_rate)\n",
        "\n",
        "#add a metric function\n",
        "\n",
        "def accuracy(l1, l2):\n",
        "  _, preds = torch.max(l1, dim=1)\n",
        "  return torch.sum(preds == l2).item()/len(l1)\n",
        "\n"
      ],
      "execution_count": 0,
      "outputs": []
    },
    {
      "cell_type": "code",
      "metadata": {
        "id": "ked7wQeq92DG",
        "colab_type": "code",
        "colab": {}
      },
      "source": [
        "#create a method for calculating loss for batch\n",
        "\n",
        "def loss_batch(model, loss_func, xb, yb, opt = None, metric = None):\n",
        "  #calculate prediction for each batch\n",
        "  preds = model(xb)\n",
        "  \n",
        "  #calculate loss\n",
        "  loss = loss_fn(preds,yb)\n",
        "\n",
        "  #optimizing the weights\n",
        "  if opt is not None:\n",
        "    loss.backward()\n",
        "    opt.step()\n",
        "    opt.zero_grad()\n",
        "\n",
        "  metric_result = None\n",
        "  \n",
        "  if metric is not None:\n",
        "    metric_result = accuracy(preds,yb)\n",
        "    \n",
        "\n",
        "  return loss.item(), len(xb), metric_result"
      ],
      "execution_count": 0,
      "outputs": []
    },
    {
      "cell_type": "code",
      "metadata": {
        "id": "cvhCJxRj_ExQ",
        "colab_type": "code",
        "outputId": "23372f81-a059-4cc2-a782-2250f38e31fd",
        "colab": {
          "base_uri": "https://localhost:8080/",
          "height": 437
        }
      },
      "source": [
        "#create a training function\n",
        "\n",
        "def fit(epochs, model, loss_fn, opt, train_dl, valid_dl =None, metric = None):\n",
        "  loss = None\n",
        "  for epoch in range(epochs):\n",
        "    for xb, yb in train_dl:\n",
        "      loss,_,metric_result = loss_batch(model=model, loss_func= loss_fn, xb = xb, yb = yb, opt = opt, metric = metric)\n",
        "    print(\"Epoch: {0} Loss: {1} Accuracy: {2}\".format(epoch,loss, metric_result))\n",
        "    \n",
        "\n",
        "fit(25,model,loss_fn,optimizer,train_dl,val_dl,accuracy)"
      ],
      "execution_count": 14,
      "outputs": [
        {
          "output_type": "stream",
          "text": [
            "Epoch: 0 Loss: 1.1441757678985596 Accuracy: 0.87\n",
            "Epoch: 1 Loss: 1.1523609161376953 Accuracy: 0.8\n",
            "Epoch: 2 Loss: 1.2585209608078003 Accuracy: 0.75\n",
            "Epoch: 3 Loss: 1.309071660041809 Accuracy: 0.82\n",
            "Epoch: 4 Loss: 1.254440426826477 Accuracy: 0.77\n",
            "Epoch: 5 Loss: 1.121923565864563 Accuracy: 0.82\n",
            "Epoch: 6 Loss: 1.2371811866760254 Accuracy: 0.81\n",
            "Epoch: 7 Loss: 1.1261355876922607 Accuracy: 0.73\n",
            "Epoch: 8 Loss: 1.2328613996505737 Accuracy: 0.81\n",
            "Epoch: 9 Loss: 1.2248910665512085 Accuracy: 0.77\n",
            "Epoch: 10 Loss: 1.3294857740402222 Accuracy: 0.71\n",
            "Epoch: 11 Loss: 1.192795991897583 Accuracy: 0.82\n",
            "Epoch: 12 Loss: 1.1952202320098877 Accuracy: 0.79\n",
            "Epoch: 13 Loss: 1.1967554092407227 Accuracy: 0.79\n",
            "Epoch: 14 Loss: 1.1972261667251587 Accuracy: 0.82\n",
            "Epoch: 15 Loss: 1.2177833318710327 Accuracy: 0.75\n",
            "Epoch: 16 Loss: 1.2164058685302734 Accuracy: 0.79\n",
            "Epoch: 17 Loss: 1.2837252616882324 Accuracy: 0.8\n",
            "Epoch: 18 Loss: 1.206121802330017 Accuracy: 0.82\n",
            "Epoch: 19 Loss: 1.246434211730957 Accuracy: 0.8\n",
            "Epoch: 20 Loss: 1.200746774673462 Accuracy: 0.79\n",
            "Epoch: 21 Loss: 1.2008212804794312 Accuracy: 0.82\n",
            "Epoch: 22 Loss: 1.1780173778533936 Accuracy: 0.81\n",
            "Epoch: 23 Loss: 1.2536581754684448 Accuracy: 0.76\n",
            "Epoch: 24 Loss: 1.2321208715438843 Accuracy: 0.74\n"
          ],
          "name": "stdout"
        }
      ]
    },
    {
      "cell_type": "code",
      "metadata": {
        "id": "6xAXEvp5DKVo",
        "colab_type": "code",
        "colab": {}
      },
      "source": [
        "#validation function\n",
        "\n",
        "def evaluate(num_epochs, model, loss_fn, valid_dl, metric):\n",
        "  with torch.no_grad():\n",
        "      for epoch in range(num_epochs):\n",
        "        loss_list = []; length_list = []; metric_list = [];\n",
        "        for xb, yb in valid_dl:\n",
        "          loss,length,metric = loss_batch(model, loss_fn, xb, yb, None, metric)\n",
        "          loss_list.append(loss); length_list.append(length); metric_list.append(metric)\n",
        "        total = np.sum(length_list)\n",
        "        # Avg. loss across batches \n",
        "        avg_loss = np.sum(np.multiply(loss_list, length_list)) / total\n",
        "        avg_metric = None\n",
        "        if metric_list is not None:\n",
        "            # Avg. of metric across batches\n",
        "            avg_metric = np.sum(np.multiply(metric_list, length_list)) / total\n",
        "        print(\"Epoch {0} Loss {1} Accuracy {2}\".format(epoch,avg_loss,avg_metric))\n"
      ],
      "execution_count": 0,
      "outputs": []
    },
    {
      "cell_type": "code",
      "metadata": {
        "id": "tQamAzwavUu-",
        "colab_type": "code",
        "colab": {
          "base_uri": "https://localhost:8080/",
          "height": 437
        },
        "outputId": "6eb0b638-b066-452a-eb1a-98b40e332cde"
      },
      "source": [
        "evaluate(25, model, loss_fn, val_dl, accuracy)"
      ],
      "execution_count": 27,
      "outputs": [
        {
          "output_type": "stream",
          "text": [
            "Epoch 0 Loss 1.21593592663606 Accuracy 0.7994166666666667\n",
            "Epoch 1 Loss 1.2159359812736512 Accuracy 0.7994166666666667\n",
            "Epoch 2 Loss 1.2159359435240427 Accuracy 0.7994166666666667\n",
            "Epoch 3 Loss 1.21593596637249 Accuracy 0.7994166666666667\n",
            "Epoch 4 Loss 1.215935965379079 Accuracy 0.7994166666666667\n",
            "Epoch 5 Loss 1.2159359604120255 Accuracy 0.7994166666666667\n",
            "Epoch 6 Loss 1.215935970346133 Accuracy 0.7994166666666667\n",
            "Epoch 7 Loss 1.2159359614054361 Accuracy 0.7994166666666667\n",
            "Epoch 8 Loss 1.2159359683593114 Accuracy 0.7994166666666667\n",
            "Epoch 9 Loss 1.2159359534581502 Accuracy 0.7994166666666667\n",
            "Epoch 10 Loss 1.2159359643856684 Accuracy 0.7994166666666667\n",
            "Epoch 11 Loss 1.215935962398847 Accuracy 0.7994166666666667\n",
            "Epoch 12 Loss 1.2159359584252039 Accuracy 0.7994166666666667\n",
            "Epoch 13 Loss 1.215935942530632 Accuracy 0.7994166666666667\n",
            "Epoch 14 Loss 1.2159359564383825 Accuracy 0.7994166666666667\n",
            "Epoch 15 Loss 1.2159359773000082 Accuracy 0.7994166666666667\n",
            "Epoch 16 Loss 1.215935969352722 Accuracy 0.7994166666666667\n",
            "Epoch 17 Loss 1.2159359524647395 Accuracy 0.7994166666666667\n",
            "Epoch 18 Loss 1.2159359494845072 Accuracy 0.7994166666666667\n",
            "Epoch 19 Loss 1.215935969352722 Accuracy 0.7994166666666667\n",
            "Epoch 20 Loss 1.2159359584252039 Accuracy 0.7994166666666667\n",
            "Epoch 21 Loss 1.2159359604120255 Accuracy 0.7994166666666667\n",
            "Epoch 22 Loss 1.215935969352722 Accuracy 0.7994166666666667\n",
            "Epoch 23 Loss 1.2159359683593114 Accuracy 0.7994166666666667\n",
            "Epoch 24 Loss 1.2159359395503997 Accuracy 0.7994166666666667\n"
          ],
          "name": "stdout"
        }
      ]
    },
    {
      "cell_type": "code",
      "metadata": {
        "id": "Gz6rlIuipT0J",
        "colab_type": "code",
        "colab": {}
      },
      "source": [
        "# Define test dataset\n",
        "test_dataset = MNIST(root='data/', \n",
        "                     train=False,\n",
        "                     transform=transforms.ToTensor())"
      ],
      "execution_count": 0,
      "outputs": []
    },
    {
      "cell_type": "code",
      "metadata": {
        "id": "RtoALOa-z0KC",
        "colab_type": "code",
        "colab": {
          "base_uri": "https://localhost:8080/",
          "height": 50
        },
        "outputId": "2405f62a-9741-46eb-e6a8-3d7d03a0ae1f"
      },
      "source": [
        "def predict_img(img):\n",
        "   xb = img.unsqueeze(0)\n",
        "   yb = model(xb)\n",
        "   _, preds  = torch.max(yb, dim=1)\n",
        "   print(preds)\n",
        "img,label = test_dataset[0]\n",
        "predict_img(img)\n",
        "print(\"Original Label {0}\".format(label))"
      ],
      "execution_count": 31,
      "outputs": [
        {
          "output_type": "stream",
          "text": [
            "tensor([7])\n",
            "Original Label 7\n"
          ],
          "name": "stdout"
        }
      ]
    },
    {
      "cell_type": "code",
      "metadata": {
        "id": "HOAxDXPX2uih",
        "colab_type": "code",
        "colab": {}
      },
      "source": [
        ""
      ],
      "execution_count": 0,
      "outputs": []
    }
  ]
}